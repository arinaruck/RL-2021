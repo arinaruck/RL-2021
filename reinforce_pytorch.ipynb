{
  "nbformat": 4,
  "nbformat_minor": 0,
  "metadata": {
    "colab": {
      "name": "reinforce_pytorch.ipynb",
      "provenance": [],
      "include_colab_link": true
    },
    "kernelspec": {
      "display_name": "Python 3",
      "name": "python3"
    }
  },
  "cells": [
    {
      "cell_type": "markdown",
      "metadata": {
        "id": "view-in-github",
        "colab_type": "text"
      },
      "source": [
        "<a href=\"https://colab.research.google.com/github/arinaruck/RL-2021/blob/main/reinforce_pytorch.ipynb\" target=\"_parent\"><img src=\"https://colab.research.google.com/assets/colab-badge.svg\" alt=\"Open In Colab\"/></a>"
      ]
    },
    {
      "cell_type": "markdown",
      "metadata": {
        "id": "oOCJHfHs7ff5"
      },
      "source": [
        "# REINFORCE in PyTorch\n",
        "\n",
        "Just like we did before for Q-learning, this time we'll design a PyTorch network to learn `CartPole-v0` via policy gradient (REINFORCE).\n",
        "\n",
        "Most of the code in this notebook is taken from approximate Q-learning, so you'll find it more or less familiar and even simpler."
      ]
    },
    {
      "cell_type": "code",
      "metadata": {
        "id": "ZpPpjj1f7fgA"
      },
      "source": [
        "import sys, os\n",
        "if 'google.colab' in sys.modules and not os.path.exists('.setup_complete'):\n",
        "    !wget -q https://raw.githubusercontent.com/yandexdataschool/Practical_RL/master/setup_colab.sh -O- | bash\n",
        "    !touch .setup_complete\n",
        "\n",
        "# This code creates a virtual display to draw game images on.\n",
        "# It will have no effect if your machine has a monitor.\n",
        "if type(os.environ.get(\"DISPLAY\")) is not str or len(os.environ.get(\"DISPLAY\")) == 0:\n",
        "    !bash ../xvfb start\n",
        "    os.environ['DISPLAY'] = ':1'"
      ],
      "execution_count": null,
      "outputs": []
    },
    {
      "cell_type": "code",
      "metadata": {
        "id": "kGTvS7-V7fgC"
      },
      "source": [
        "import gym\n",
        "import numpy as np\n",
        "import matplotlib.pyplot as plt\n",
        "%matplotlib inline"
      ],
      "execution_count": null,
      "outputs": []
    },
    {
      "cell_type": "markdown",
      "metadata": {
        "id": "gDsFJg137fgC"
      },
      "source": [
        "A caveat: with some versions of `pyglet`, the following cell may crash with `NameError: name 'base' is not defined`. The corresponding bug report is [here](https://github.com/pyglet/pyglet/issues/134). If you see this error, try restarting the kernel."
      ]
    },
    {
      "cell_type": "code",
      "metadata": {
        "colab": {
          "base_uri": "https://localhost:8080/",
          "height": 286
        },
        "id": "W9zaGFu37fgD",
        "outputId": "ad391a1b-34db-4d66-e4bc-c08efb8f590c"
      },
      "source": [
        "env = gym.make(\"CartPole-v0\")\n",
        "\n",
        "# gym compatibility: unwrap TimeLimit\n",
        "if hasattr(env, '_max_episode_steps'):\n",
        "    env = env.env\n",
        "\n",
        "env.reset()\n",
        "n_actions = env.action_space.n\n",
        "state_dim = env.observation_space.shape\n",
        "\n",
        "plt.imshow(env.render(\"rgb_array\"))"
      ],
      "execution_count": null,
      "outputs": [
        {
          "output_type": "execute_result",
          "data": {
            "text/plain": [
              "<matplotlib.image.AxesImage at 0x7fbdb80c60d0>"
            ]
          },
          "metadata": {
            "tags": []
          },
          "execution_count": 39
        },
        {
          "output_type": "display_data",
          "data": {
            "image/png": "[encoded data removed]",
            "text/plain": [
              "<Figure size 432x288 with 1 Axes>"
            ]
          },
          "metadata": {
            "tags": [],
            "needs_background": "light"
          }
        }
      ]
    },
    {
      "cell_type": "code",
      "metadata": {
        "colab": {
          "base_uri": "https://localhost:8080/"
        },
        "id": "60eTsGsH8q_q",
        "outputId": "bfb47089-f7ed-47ca-cfff-2904e675a93f"
      },
      "source": [
        "print(state_dim)"
      ],
      "execution_count": null,
      "outputs": [
        {
          "output_type": "stream",
          "text": [
            "(4,)\n"
          ],
          "name": "stdout"
        }
      ]
    },
    {
      "cell_type": "markdown",
      "metadata": {
        "id": "C81SuDAu7fgE"
      },
      "source": [
        "# Building the network for REINFORCE"
      ]
    },
    {
      "cell_type": "markdown",
      "metadata": {
        "id": "8JncMMoG7fgF"
      },
      "source": [
        "For REINFORCE algorithm, we'll need a model that predicts action probabilities given states.\n",
        "\n",
        "For numerical stability, please __do not include the softmax layer into your network architecture__.\n",
        "We'll use softmax or log-softmax where appropriate."
      ]
    },
    {
      "cell_type": "code",
      "metadata": {
        "id": "488ouBK27fgH"
      },
      "source": [
        "import torch\n",
        "import torch.nn as nn"
      ],
      "execution_count": null,
      "outputs": []
    },
    {
      "cell_type": "code",
      "metadata": {
        "id": "5DNfGLJ67fgH"
      },
      "source": [
        "# Build a simple neural network that predicts policy logits. \n",
        "# Keep it simple: CartPole isn't worth deep architectures.\n",
        "hidden = 32\n",
        "model = nn.Sequential(\n",
        "    nn.Linear(state_dim[0], hidden),\n",
        "    nn.LeakyReLU(0.2, inplace=True),\n",
        "    nn.Linear(hidden, hidden),\n",
        "    nn.LeakyReLU(0.2, inplace=True),\n",
        "    nn.Linear(hidden, n_actions)\n",
        ")"
      ],
      "execution_count": null,
      "outputs": []
    },
    {
      "cell_type": "markdown",
      "metadata": {
        "id": "ETFQh1hK7fgI"
      },
      "source": [
        "#### Predict function"
      ]
    },
    {
      "cell_type": "markdown",
      "metadata": {
        "id": "9C33ZxPs7fgI"
      },
      "source": [
        "Note: output value of this function is not a torch tensor, it's a numpy array.\n",
        "So, here gradient calculation is not needed.\n",
        "<br>\n",
        "Use [no_grad](https://pytorch.org/docs/stable/autograd.html#torch.autograd.no_grad)\n",
        "to suppress gradient calculation.\n",
        "<br>\n",
        "Also, `.detach()` (or legacy `.data` property) can be used instead, but there is a difference:\n",
        "<br>\n",
        "With `.detach()` computational graph is built but then disconnected from a particular tensor,\n",
        "so `.detach()` should be used if that graph is needed for backprop via some other (not detached) tensor;\n",
        "<br>\n",
        "In contrast, no graph is built by any operation in `no_grad()` context, thus it's preferable here."
      ]
    },
    {
      "cell_type": "code",
      "metadata": {
        "id": "EU8QTtJV7fgI"
      },
      "source": [
        "@torch.no_grad()\n",
        "def predict_probs(states):\n",
        "    \"\"\" \n",
        "    Predict action probabilities given states.\n",
        "    :param states: numpy array of shape [batch, state_shape]\n",
        "    :returns: numpy array of shape [batch, n_actions]\n",
        "    \"\"\"\n",
        "    # convert states, compute logits, use softmax to get probability\n",
        "    states = torch.as_tensor(states, dtype=torch.float32)\n",
        "    probs = torch.softmax(model(states), dim=-1)\n",
        "    return probs.detach().numpy()"
      ],
      "execution_count": null,
      "outputs": []
    },
    {
      "cell_type": "code",
      "metadata": {
        "id": "m874qAE97fgJ"
      },
      "source": [
        "test_states = np.array([env.reset() for _ in range(5)])\n",
        "test_probas = predict_probs(test_states)\n",
        "assert isinstance(test_probas, np.ndarray), \\\n",
        "    \"you must return np array and not %s\" % type(test_probas)\n",
        "assert tuple(test_probas.shape) == (test_states.shape[0], env.action_space.n), \\\n",
        "    \"wrong output shape: %s\" % np.shape(test_probas)\n",
        "assert np.allclose(np.sum(test_probas, axis=1), 1), \"probabilities do not sum to 1\""
      ],
      "execution_count": null,
      "outputs": []
    },
    {
      "cell_type": "markdown",
      "metadata": {
        "id": "QTpe-w0B7fgJ"
      },
      "source": [
        "### Play the game\n",
        "\n",
        "We can now use our newly built agent to play the game."
      ]
    },
    {
      "cell_type": "code",
      "metadata": {
        "id": "EJLZ-PfS7fgJ"
      },
      "source": [
        "def generate_session(env, t_max=1000):\n",
        "    \"\"\" \n",
        "    Play a full session with REINFORCE agent.\n",
        "    Returns sequences of states, actions, and rewards.\n",
        "    \"\"\"\n",
        "    # arrays to record session\n",
        "    states, actions, rewards = [], [], []\n",
        "    s = env.reset()\n",
        "\n",
        "    for t in range(t_max):\n",
        "        # action probabilities array aka pi(a|s)\n",
        "        action_probs = predict_probs(np.array([s]))[0]\n",
        "\n",
        "        # Sample action with given probabilities.\n",
        "        a = np.random.choice(n_actions, p=action_probs)\n",
        "        new_s, r, done, info = env.step(a)\n",
        "\n",
        "        # record session history to train later\n",
        "        states.append(s)\n",
        "        actions.append(a)\n",
        "        rewards.append(r)\n",
        "\n",
        "        s = new_s\n",
        "        if done:\n",
        "            break\n",
        "\n",
        "    return states, actions, rewards"
      ],
      "execution_count": null,
      "outputs": []
    },
    {
      "cell_type": "code",
      "metadata": {
        "id": "pdBICiHm7fgK"
      },
      "source": [
        "# test it\n",
        "states, actions, rewards = generate_session(env)"
      ],
      "execution_count": null,
      "outputs": []
    },
    {
      "cell_type": "markdown",
      "metadata": {
        "id": "8Z4KYdTr7fgK"
      },
      "source": [
        "### Computing cumulative rewards\n",
        "\n",
        "$$\n",
        "\\begin{align*}\n",
        "G_t &= r_t + \\gamma r_{t + 1} + \\gamma^2 r_{t + 2} + \\ldots \\\\\n",
        "&= \\sum_{i = t}^T \\gamma^{i - t} r_i \\\\\n",
        "&= r_t + \\gamma * G_{t + 1}\n",
        "\\end{align*}\n",
        "$$"
      ]
    },
    {
      "cell_type": "code",
      "metadata": {
        "id": "qEd-uhSy7fgK"
      },
      "source": [
        "def get_cumulative_rewards(rewards,  # rewards at each step\n",
        "                           gamma=0.99  # discount for reward\n",
        "                           ):\n",
        "    \"\"\"\n",
        "    Take a list of immediate rewards r(s,a) for the whole session \n",
        "    and compute cumulative returns (a.k.a. G(s,a) in Sutton '16).\n",
        "    \n",
        "    G_t = r_t + gamma*r_{t+1} + gamma^2*r_{t+2} + ...\n",
        "\n",
        "    A simple way to compute cumulative rewards is to iterate from the last\n",
        "    to the first timestep and compute G_t = r_t + gamma*G_{t+1} recurrently\n",
        "\n",
        "    You must return an array/list of cumulative rewards with as many elements as in the initial rewards.\n",
        "    \"\"\"\n",
        "    n = len(rewards)\n",
        "    rewards = np.array(rewards)\n",
        "    g = [rewards[-1]]\n",
        "    for i in range(1, n):\n",
        "        g.append(gamma * g[-1] + rewards[-(i + 1)])\n",
        "    return g[::-1]"
      ],
      "execution_count": null,
      "outputs": []
    },
    {
      "cell_type": "code",
      "metadata": {
        "colab": {
          "base_uri": "https://localhost:8080/"
        },
        "id": "WXQvB0wh7fgK",
        "outputId": "e2f8ac36-a7d4-4ce2-fe73-6cbef1ab2ed0"
      },
      "source": [
        "get_cumulative_rewards(rewards)\n",
        "assert len(get_cumulative_rewards(list(range(100)))) == 100\n",
        "assert np.allclose(\n",
        "    get_cumulative_rewards([0, 0, 1, 0, 0, 1, 0], gamma=0.9),\n",
        "    [1.40049, 1.5561, 1.729, 0.81, 0.9, 1.0, 0.0])\n",
        "assert np.allclose(\n",
        "    get_cumulative_rewards([0, 0, 1, -2, 3, -4, 0], gamma=0.5),\n",
        "    [0.0625, 0.125, 0.25, -1.5, 1.0, -4.0, 0.0])\n",
        "assert np.allclose(\n",
        "    get_cumulative_rewards([0, 0, 1, 2, 3, 4, 0], gamma=0),\n",
        "    [0, 0, 1, 2, 3, 4, 0])\n",
        "print(\"looks good!\")"
      ],
      "execution_count": null,
      "outputs": [
        {
          "output_type": "stream",
          "text": [
            "looks good!\n"
          ],
          "name": "stdout"
        }
      ]
    },
    {
      "cell_type": "markdown",
      "metadata": {
        "id": "ObK6Er7n7fgL"
      },
      "source": [
        "#### Loss function and updates\n",
        "\n",
        "We now need to define objective and update over policy gradient.\n",
        "\n",
        "Our objective function is\n",
        "\n",
        "$$ J \\approx  { 1 \\over N } \\sum_{s_i,a_i} G(s_i,a_i) $$\n",
        "\n",
        "REINFORCE defines a way to compute the gradient of the expected reward with respect to policy parameters. The formula is as follows:\n",
        "\n",
        "$$ \\nabla_\\theta \\hat J(\\theta) \\approx { 1 \\over N } \\sum_{s_i, a_i} \\nabla_\\theta \\log \\pi_\\theta (a_i \\mid s_i) \\cdot G_t(s_i, a_i) $$\n",
        "\n",
        "We can abuse PyTorch's capabilities for automatic differentiation by defining our objective function as follows:\n",
        "\n",
        "$$ \\hat J(\\theta) \\approx { 1 \\over N } \\sum_{s_i, a_i} \\log \\pi_\\theta (a_i \\mid s_i) \\cdot G_t(s_i, a_i) $$\n",
        "\n",
        "When you compute the gradient of that function with respect to network weights $\\theta$, it will become exactly the policy gradient."
      ]
    },
    {
      "cell_type": "code",
      "metadata": {
        "id": "j2AhO0rk7fgM"
      },
      "source": [
        "def to_one_hot(y_tensor, ndims):\n",
        "    \"\"\" helper: take an integer vector and convert it to 1-hot matrix. \"\"\"\n",
        "    y_tensor = y_tensor.type(torch.LongTensor).view(-1, 1)\n",
        "    y_one_hot = torch.zeros(\n",
        "        y_tensor.size()[0], ndims).scatter_(1, y_tensor, 1)\n",
        "    return y_one_hot"
      ],
      "execution_count": null,
      "outputs": []
    },
    {
      "cell_type": "code",
      "metadata": {
        "id": "qhVCmHxW7fgM"
      },
      "source": [
        "# Your code: define optimizers\n",
        "optimizer = torch.optim.Adam(model.parameters(), 1e-3)\n",
        "\n",
        "\n",
        "def train_on_session(states, actions, rewards, gamma=0.99, entropy_coef=1e-2):\n",
        "    \"\"\"\n",
        "    Takes a sequence of states, actions and rewards produced by generate_session.\n",
        "    Updates agent's weights by following the policy gradient above.\n",
        "    Please use Adam optimizer with default parameters.\n",
        "    \"\"\"\n",
        "\n",
        "    # cast everything into torch tensors\n",
        "    states = torch.tensor(states, dtype=torch.float32)\n",
        "    actions = torch.tensor(actions, dtype=torch.int32)\n",
        "    cumulative_returns = np.array(get_cumulative_rewards(rewards, gamma))\n",
        "    cumulative_returns = torch.tensor(cumulative_returns, dtype=torch.float32)\n",
        "\n",
        "    # predict logits, probas and log-probas using an agent.\n",
        "    logits = model(states)\n",
        "    probs = nn.functional.softmax(logits, -1)\n",
        "    log_probs = nn.functional.log_softmax(logits, -1)\n",
        "\n",
        "    assert all(isinstance(v, torch.Tensor) for v in [logits, probs, log_probs]), \\\n",
        "        \"please use compute using torch tensors and don't use predict_probs function\"\n",
        "\n",
        "    # select log-probabilities for chosen actions, log pi(a_i|s_i)\n",
        "    log_probs_for_actions = torch.sum(\n",
        "        log_probs * to_one_hot(actions, env.action_space.n), dim=1)\n",
        "   \n",
        "\n",
        "   \n",
        "    # Compute loss here. Don't forgen entropy regularization with `entropy_coef` \n",
        "    entropy = - (probs * log_probs).sum(dim=1)\n",
        "\n",
        "    loss = -(log_probs_for_actions * cumulative_returns).mean() - entropy_coef * entropy.mean()\n",
        "\n",
        "    # Gradient descent step\n",
        "    optimizer.zero_grad()\n",
        "    loss.backward()\n",
        "    optimizer.step()\n",
        "\n",
        "    # technical: return session rewards to print them later\n",
        "    return np.sum(rewards)"
      ],
      "execution_count": null,
      "outputs": []
    },
    {
      "cell_type": "markdown",
      "metadata": {
        "id": "tTg9VfLn7fgP"
      },
      "source": [
        "### The actual training"
      ]
    },
    {
      "cell_type": "code",
      "metadata": {
        "colab": {
          "base_uri": "https://localhost:8080/"
        },
        "id": "EcbT___k7fgP",
        "outputId": "d237dae3-a4d4-4626-d345-ef0ad20a9c70"
      },
      "source": [
        "for i in range(1000):\n",
        "    rewards = [train_on_session(*generate_session(env)) for _ in range(100)]  # generate new sessions\n",
        "    if i % 10 == 0:\n",
        "        print(\"mean reward:%.3f\" % (np.mean(rewards)))\n",
        "    \n",
        "    if np.mean(rewards) > 750:\n",
        "        print(\"mean reward:%.3f\" % (np.mean(rewards)))\n",
        "        print(\"You Win!\")  # but you can train even further\n",
        "        break"
      ],
      "execution_count": null,
      "outputs": [
        {
          "output_type": "stream",
          "text": [
            "mean reward:34.090\n",
            "mean reward:434.070\n",
            "mean reward:109.590\n",
            "mean reward:76.110\n",
            "mean reward:969.460\n",
            "You Win!\n"
          ],
          "name": "stdout"
        }
      ]
    },
    {
      "cell_type": "markdown",
      "metadata": {
        "id": "UIvieP3x7fgQ"
      },
      "source": [
        "### Results & video"
      ]
    },
    {
      "cell_type": "code",
      "metadata": {
        "id": "2FkVdlW67fgQ"
      },
      "source": [
        "# Record sessions\n",
        "\n",
        "import gym.wrappers\n",
        "\n",
        "with gym.wrappers.Monitor(gym.make(\"CartPole-v0\"), directory=\"videos\", force=True) as env_monitor:\n",
        "    sessions = [generate_session(env_monitor) for _ in range(100)]"
      ],
      "execution_count": null,
      "outputs": []
    },
    {
      "cell_type": "code",
      "metadata": {
        "colab": {
          "base_uri": "https://localhost:8080/",
          "height": 501
        },
        "id": "oNJ4RqQV7fgQ",
        "outputId": "d0d82439-d5a5-4dc8-c60f-1a44346df64e"
      },
      "source": [
        "# Show video. This may not work in some setups. If it doesn't\n",
        "# work for you, you can download the videos and view them locally.\n",
        "\n",
        "from pathlib import Path\n",
        "from base64 import b64encode\n",
        "from IPython.display import HTML\n",
        "\n",
        "video_paths = sorted([s for s in Path('videos').iterdir() if s.suffix == '.mp4'])\n",
        "video_path = video_paths[-1]  # You can also try other indices\n",
        "\n",
        "if 'google.colab' in sys.modules:\n",
        "    # https://stackoverflow.com/a/57378660/1214547\n",
        "    with video_path.open('rb') as fp:\n",
        "        mp4 = fp.read()\n",
        "    data_url = 'data:video/mp4;base64,' + b64encode(mp4).decode()\n",
        "else:\n",
        "    data_url = str(video_path)\n",
        "\n",
        "HTML(\"\"\"\n",
        "<video width=\"640\" height=\"480\" controls>\n",
        "  <source src=\"{}\" type=\"video/mp4\">\n",
        "</video>\n",
        "\"\"\".format(data_url))"
      ],
      "execution_count": null,
      "outputs": [
        {
          "output_type": "execute_result",
          "data": {
            "text/html": [
              "\n",
              "<video width=\"640\" height=\"480\" controls>\n",
              "  <source src=\"data:video/mp4;base64,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\" type=\"video/mp4\">\n",
              "</video>\n"
            ],
            "text/plain": [
              "<IPython.core.display.HTML object>"
            ]
          },
          "metadata": {
            "tags": []
          },
          "execution_count": 36
        }
      ]
    }
  ]
}