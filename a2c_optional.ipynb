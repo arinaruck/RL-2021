{
  "nbformat": 4,
  "nbformat_minor": 0,
  "metadata": {
    "colab": {
      "name": "a2c-optional.ipynb",
      "provenance": [],
      "collapsed_sections": [],
      "include_colab_link": true
    },
    "kernelspec": {
      "name": "python3",
      "display_name": "Python 3"
    }
  },
  "cells": [
    {
      "cell_type": "markdown",
      "metadata": {
        "id": "view-in-github",
        "colab_type": "text"
      },
      "source": [
        "<a href=\"https://colab.research.google.com/github/arinaruck/RL-2021/blob/main/a2c_optional.ipynb\" target=\"_parent\"><img src=\"https://colab.research.google.com/assets/colab-badge.svg\" alt=\"Open In Colab\"/></a>"
      ]
    },
    {
      "cell_type": "code",
      "metadata": {
        "id": "tGdZ7Nc82UqA",
        "colab": {
          "base_uri": "https://localhost:8080/"
        },
        "outputId": "1ae8c91f-22a1-49e3-c964-0552ebdf203b"
      },
      "source": [
        "import sys\n",
        "if 'google.colab' in sys.modules:\n",
        "    import os\n",
        "\n",
        "    os.system('apt-get install -y xvfb')\n",
        "    os.system('wget https://raw.githubusercontent.com/yandexdataschool/Practical_RL/master/xvfb -O ../xvfb')\n",
        "    os.system('apt-get install -y python-opengl ffmpeg')\n",
        "    os.system('pip install pyglet==1.2.4')\n",
        "\n",
        "    os.system('python -m pip install -U pygame --user')\n",
        "\n",
        "    print('setup complete')\n",
        "\n",
        "# XVFB will be launched if you run on a server\n",
        "import os\n",
        "if type(os.environ.get(\"DISPLAY\")) is not str or len(os.environ.get(\"DISPLAY\")) == 0:\n",
        "    !bash ../xvfb start\n",
        "    os.environ['DISPLAY'] = ':1'"
      ],
      "execution_count": null,
      "outputs": [
        {
          "output_type": "stream",
          "text": [
            "setup complete\n",
            "Starting virtual X frame buffer: Xvfb.\n"
          ],
          "name": "stdout"
        }
      ]
    },
    {
      "cell_type": "code",
      "metadata": {
        "colab": {
          "base_uri": "https://localhost:8080/"
        },
        "id": "LGjfYCkq3ruE",
        "outputId": "96406372-6236-4d72-a1f1-954a6d6925f7"
      },
      "source": [
        "!apt install subversion\n",
        "!svn checkout https://github.com/yandexdataschool/Practical_RL/trunk/week06_policy_based/"
      ],
      "execution_count": null,
      "outputs": [
        {
          "output_type": "stream",
          "text": [
            "Reading package lists... Done\n",
            "Building dependency tree       \n",
            "Reading state information... Done\n",
            "subversion is already the newest version (1.9.7-4ubuntu1).\n",
            "0 upgraded, 0 newly installed, 0 to remove and 29 not upgraded.\n",
            "Checked out revision 4147.\n"
          ],
          "name": "stdout"
        }
      ]
    },
    {
      "cell_type": "code",
      "metadata": {
        "id": "DhdnJLzE4ysg"
      },
      "source": [
        "sys.path.append('week06_policy_based')"
      ],
      "execution_count": null,
      "outputs": []
    },
    {
      "cell_type": "markdown",
      "metadata": {
        "id": "N02MC1I32UqI"
      },
      "source": [
        "# Implementing Advantage-Actor Critic (A2C)"
      ]
    },
    {
      "cell_type": "markdown",
      "metadata": {
        "id": "ZN5ckUu92UqJ"
      },
      "source": [
        "In this notebook you will implement Advantage Actor Critic algorithm that trains on a batch of Atari 2600 environments running in parallel. \n",
        "\n",
        "Firstly, we will use environment wrappers implemented in file `atari_wrappers.py`. These wrappers preprocess observations (resize, grayscal, take max between frames, skip frames and stack them together) and rewards. Some of the wrappers help to reset the environment and pass `done` flag equal to `True` when agent dies.\n",
        "File `env_batch.py` includes implementation of `ParallelEnvBatch` class that allows to run multiple environments in parallel. To create an environment we can use `nature_dqn_env` function. Note that if you are using \n",
        "PyTorch and not using `tensorboardX` you will need to implement a wrapper that will log **raw** total rewards that the *unwrapped* environment returns and redefine the implemention of `nature_dqn_env` function here. \n",
        "\n"
      ]
    },
    {
      "cell_type": "code",
      "metadata": {
        "id": "rCiquLkC2UqK"
      },
      "source": [
        "import numpy as np\n",
        "from atari_wrappers import nature_dqn_env, NumpySummaries\n",
        "import torch\n",
        "import torch.nn as nn\n",
        "\n",
        "nenvs = 8\n",
        "env = nature_dqn_env(\"SpaceInvadersNoFrameskip-v4\", nenvs=nenvs, summaries=False)\n",
        "obs = env.reset()\n",
        "assert obs.shape == (nenvs, 84, 84, 4)\n",
        "assert obs.dtype == np.uint8"
      ],
      "execution_count": null,
      "outputs": []
    },
    {
      "cell_type": "markdown",
      "metadata": {
        "id": "LQdUdHjQ2UqK"
      },
      "source": [
        "Next, we will need to implement a model that predicts logits and values. It is suggested that you use the same model as in [Nature DQN paper](https://web.stanford.edu/class/psych209/Readings/MnihEtAlHassibis15NatureControlDeepRL.pdf) with a modification that instead of having a single output layer, it will have two output layers taking as input the output of the last hidden layer. **Note** that this model is different from the model you used in homework where you implemented DQN. You can use your favorite deep learning framework here. We suggest that you use orthogonal initialization with parameter $\\sqrt{2}$ for kernels and initialize biases with zeros. "
      ]
    },
    {
      "cell_type": "code",
      "metadata": {
        "id": "deBbppdi2UqL"
      },
      "source": [
        "def init_weights(m):\n",
        "    sqrt_2 = np.sqrt(2)\n",
        "    if type(m) == nn.Conv2d:\n",
        "        torch.nn.init.orthogonal_(m.weight, gain=sqrt_2)\n",
        "        m.bias.data.fill_(0)\n",
        "        \n",
        "class CAAgent(nn.Module):\n",
        "    def __init__(self, n_actions):\n",
        "\n",
        "        super().__init__()\n",
        "        self.n_actions = n_actions\n",
        "\n",
        "        # Define your network body here. Please make sure agent is fully contained here\n",
        "        # nn.Flatten() can be useful\n",
        "        hidden = 512\n",
        "        self.encode = nn.Sequential(\n",
        "            nn.Conv2d(4, 32, 8, 4), \n",
        "            nn.ReLU(),\n",
        "            nn.Conv2d(32, 64, 4, 2), \n",
        "            nn.ReLU(),\n",
        "            nn.Conv2d(64, 64, 3, 1), \n",
        "            nn.ReLU(),\n",
        "            nn.Flatten(),\n",
        "            nn.Linear(3136, hidden),\n",
        "            nn.ReLU()\n",
        "        )\n",
        "        self.policy = nn.Linear(hidden, n_actions)\n",
        "        self.v = nn.Sequential(\n",
        "                    nn.Linear(hidden, hidden // 4),\n",
        "                    nn.LeakyReLU(0.2),\n",
        "                    nn.Linear(hidden // 4, 1)\n",
        "        )\n",
        "        self.encode.apply(init_weights)\n",
        "\n",
        "    def forward(self, state_t):\n",
        "        print(\"I'm in forward!\")\n",
        "        state_t = torch.as_tensor(state_t.transpose(0, 3, 1, 2), dtype=torch.float32)\n",
        "        encoded = self.encode(state_t)\n",
        "        policy = self.policy(encoded)\n",
        "        values = self.v(encoded)\n",
        "\n",
        "        return policy, values"
      ],
      "execution_count": null,
      "outputs": []
    },
    {
      "cell_type": "markdown",
      "metadata": {
        "id": "c-PGyOom2UqL"
      },
      "source": [
        "You will also need to define and use a policy that wraps the model. While the model computes logits for all actions, the policy will sample actions and also compute their log probabilities.  `policy.act` should return a dictionary of all the arrays that are needed to interact with an environment and train the model.\n",
        " Note that actions must be an `np.ndarray` while the other\n",
        "tensors need to have the type determined by your deep learning framework. "
      ]
    },
    {
      "cell_type": "code",
      "metadata": {
        "id": "50Ca9_Gr2UqL"
      },
      "source": [
        "class Policy:\n",
        "    def __init__(self, model):\n",
        "        self.model = model\n",
        "        self.actions = np.arange(model.n_actions)\n",
        "    \n",
        "    def act(self, inputs):\n",
        "        logits, values = self.model(inputs)\n",
        "        probs = nn.functional.softmax(logits, -1)\n",
        "        log_probs = nn.functional.log_softmax(logits, -1)\n",
        "        batch_size = inputs.shape[0]\n",
        "        actions = np.zeros(batch_size)\n",
        "        for i in range(batch_size):\n",
        "          actions[i] = np.random.choice(self.actions, p=probs[i].detach().numpy())\n",
        "        print(f'actions shape: {actions.shape}')\n",
        "        return {'actions': actions, 'logits': logits, \n",
        "                'log_probs': log_probs, 'values': values}"
      ],
      "execution_count": null,
      "outputs": []
    },
    {
      "cell_type": "markdown",
      "metadata": {
        "id": "Zbct0wDn2UqM"
      },
      "source": [
        "Next will pass the environment and policy to a runner that collects partial trajectories from the environment. \n",
        "The class that does is is already implemented for you."
      ]
    },
    {
      "cell_type": "code",
      "metadata": {
        "id": "42lm2ea5eokd"
      },
      "source": [
        "%load_ext autoreload\n",
        "%autoreload 2"
      ],
      "execution_count": null,
      "outputs": []
    },
    {
      "cell_type": "code",
      "metadata": {
        "id": "NezDtwS82UqM"
      },
      "source": [
        "from runners import EnvRunner"
      ],
      "execution_count": null,
      "outputs": []
    },
    {
      "cell_type": "markdown",
      "metadata": {
        "id": "fvd81h_Y2UqN"
      },
      "source": [
        "This runner interacts with the environment for a given number of steps and returns a dictionary containing\n",
        "keys \n",
        "\n",
        "* 'observations' \n",
        "* 'rewards' \n",
        "* 'resets'\n",
        "* 'actions'\n",
        "* all other keys that you defined in `Policy`\n",
        "\n",
        "under each of these keys there is a python `list` of interactions with the environment of specified length $T$ &mdash; the size of partial trajectory. "
      ]
    },
    {
      "cell_type": "markdown",
      "metadata": {
        "id": "xyd5DKf32UqN"
      },
      "source": [
        "To train the part of the model that predicts state values you will need to compute the value targets. \n",
        "Any callable could be passed to `EnvRunner` to be applied to each partial trajectory after it is collected. \n",
        "Thus, we can implement and use `ComputeValueTargets` callable. \n",
        "The formula for the value targets is simple:\n",
        "\n",
        "$$\n",
        "\\hat v(s_t) = \\left( \\sum_{t'=0}^{T - 1 - t} \\gamma^{t'}r_{t+t'} \\right) + \\gamma^T \\hat{v}(s_{t+T}),\n",
        "$$\n",
        "\n",
        "In implementation, however, do not forget to use \n",
        "`trajectory['resets']` flags to check if you need to add the value targets at the next step when \n",
        "computing value targets for the current step. You can access `trajectory['state']['latest_observation']`\n",
        "to get last observations in partial trajectory &mdash; $s_{t+T}$."
      ]
    },
    {
      "cell_type": "code",
      "metadata": {
        "id": "rVnxBleR2UqO"
      },
      "source": [
        "class ComputeValueTargets:\n",
        "    def __init__(self, policy, gamma=0.99):\n",
        "        self.policy = policy\n",
        "        self.gamma = gamma\n",
        "    \n",
        "    def __call__(self, trajectory):\n",
        "        # This method should modify trajectory inplace by adding\n",
        "        # an item with key 'value_targets' to it.\n",
        "        rewards = trajectory['rewards']\n",
        "        resets = trajectory['resets']\n",
        "        n = len(rewards)\n",
        "        _, init_v = self.policy.model(trajectory['state']['latest_observation']).detach()\n",
        "        g = [self.gamma * init_v + rewards[-1]]\n",
        "        for i in range(1, n):\n",
        "            v_prev = 0 if resets[-(i+1)] else g[-1]\n",
        "            g.append(self.gamma *  v_prev + rewards[-(i + 1)])\n",
        "        trajectory['value_targets'] = g[::-1]"
      ],
      "execution_count": null,
      "outputs": []
    },
    {
      "cell_type": "markdown",
      "metadata": {
        "id": "jye6fjIr2UqO"
      },
      "source": [
        "After computing value targets we will transform lists of interactions into tensors\n",
        "with the first dimension `batch_size` which is equal to `T * nenvs`, i.e. you essentially need\n",
        "to flatten the first two dimensions. "
      ]
    },
    {
      "cell_type": "code",
      "metadata": {
        "id": "l1LvJC4w2UqO"
      },
      "source": [
        "class MergeTimeBatch:\n",
        "    \"\"\" Merges first two axes typically representing time and env batch. \"\"\"\n",
        "    def __call__(self, trajectory):\n",
        "        # Modify trajectory inplace.\n",
        "        for k, v in trajectory.items():\n",
        "            _, _, dims = trajectory[k].shape\n",
        "            print(k, trajectory[k])\n",
        "            trajectory[k] = torch.as_tensor(trajectory[k]).view(-1, *dims)"
      ],
      "execution_count": null,
      "outputs": []
    },
    {
      "cell_type": "code",
      "metadata": {
        "id": "K3mTtsiT2UqP"
      },
      "source": [
        "model = CAAgent(env.action_space.n)\n",
        "policy = Policy(model)\n",
        "runner = EnvRunner(\n",
        "    env, policy, nsteps=5,\n",
        "    transforms=[\n",
        "        ComputeValueTargets(policy),\n",
        "        MergeTimeBatch(),\n",
        "    ])"
      ],
      "execution_count": null,
      "outputs": []
    },
    {
      "cell_type": "markdown",
      "metadata": {
        "id": "BpSJHc_o2UqP"
      },
      "source": [
        "Now is the time to implement the advantage actor critic algorithm itself. You can look into your lecture,\n",
        "[Mnih et al. 2016](https://arxiv.org/abs/1602.01783) paper, and [lecture](https://www.youtube.com/watch?v=Tol_jw5hWnI&list=PLkFD6_40KJIxJMR-j5A1mkxK26gh_qg37&index=20) by Sergey Levine."
      ]
    },
    {
      "cell_type": "code",
      "metadata": {
        "id": "dyFs-v-t2UqT"
      },
      "source": [
        "class A2C:\n",
        "    def __init__(self,\n",
        "                 policy,\n",
        "                 optimizer,\n",
        "                 value_loss_coef=0.25,\n",
        "                 entropy_coef=0.01,\n",
        "                 max_grad_norm=0.5):\n",
        "        self.policy = policy\n",
        "        self.optimizer = optimizer\n",
        "        self.value_loss_coef = value_loss_coef\n",
        "        self.entropy_coef = entropy_coef\n",
        "        self.max_grad_norm = max_grad_norm\n",
        "        self.mse = nn.MSELoss()\n",
        "    \n",
        "    def policy_loss(self, trajectory):\n",
        "        n_actions = self.policy.model.n_actions\n",
        "        policy, values = self.policy.model(trajectory['observations'])\n",
        "        log_probs = trajectory['log_probs']\n",
        "        probs = trajectory['probs']\n",
        "        actions = trajectory['actions']\n",
        "        entropy = -(probs * log_probs).sum(dim=1)\n",
        "        log_probs_for_actions = torch.sum( \n",
        "            log_probs * to_one_hot(actions, n_actions), dim=1)\n",
        "        p_loss = -(log_probs_for_actions * (cumulative_returns - values) + self.entropy_coef * entropy).mean()\n",
        "        return p_loss\n",
        "    \n",
        "    def value_loss(self, trajectory):\n",
        "        targets = trajectory['value_targets']\n",
        "        _, values = self.policy.model(trajectory['observations'])\n",
        "        return self.mse(values, targets)\n",
        "    \n",
        "    def loss(self, trajectory):\n",
        "        return self.policy_loss(trajectory) + self.value_loss_coef * self.value_loss(trajectory)\n",
        "      \n",
        "    def step(self, trajectory):\n",
        "        self.optimizer.zero_grad()\n",
        "        loss = self.loss(trajectory)\n",
        "        loss.backward()\n",
        "        nn.clip_grad_value_(self.policy.model.parameters(), self.max_grad_norm)"
      ],
      "execution_count": null,
      "outputs": []
    },
    {
      "cell_type": "markdown",
      "metadata": {
        "id": "XSiHNoOc2UqT"
      },
      "source": [
        "Now you can train your model. With reasonable hyperparameters training on a single GTX1080 for 10 million steps across all batched environments (which translates to about 5 hours of wall clock time)\n",
        "it should be possible to achieve *average raw reward over last 100 episodes* (the average is taken over 100 last \n",
        "episodes in each environment in the batch) of about 600. You should plot this quantity with respect to \n",
        "`runner.step_var` &mdash; the number of interactions with all environments. It is highly \n",
        "encouraged to also provide plots of the following quantities (these are useful for debugging as well):\n",
        "\n",
        "* [Coefficient of Determination](https://en.wikipedia.org/wiki/Coefficient_of_determination) between \n",
        "value targets and value predictions\n",
        "* Entropy of the policy $\\pi$\n",
        "* Value loss\n",
        "* Policy loss\n",
        "* Value targets\n",
        "* Value predictions\n",
        "* Gradient norm\n",
        "* Advantages\n",
        "* A2C loss\n",
        "\n",
        "For optimization we suggest you use RMSProp with learning rate starting from 7e-4 and linearly decayed to 0, smoothing constant (alpha in PyTorch and decay in TensorFlow) equal to 0.99 and epsilon equal to 1e-5."
      ]
    },
    {
      "cell_type": "code",
      "metadata": {
        "id": "Nx3lijR-2UqT"
      },
      "source": [
        "lr = 7e-4\n",
        "n_steps = 100\n",
        "lr_step = lr / n_steps\n",
        "optimizer = torch.optim.RMSprop(model.parameters(), lr, alpha=0.99, eps=1e-5)\n",
        "a2c = A2C(policy, optimizer)\n",
        "for i in range(n_steps):\n",
        "    trajectory = runner.get_next()\n",
        "    a2c.step(trajectory)\n",
        "    optimizer.lr -= lr_step\n"
      ],
      "execution_count": 2,
      "outputs": []
    },
    {
      "cell_type": "code",
      "metadata": {
        "id": "2QiM_5duiYi-"
      },
      "source": [
        ""
      ],
      "execution_count": null,
      "outputs": []
    }
  ]
}